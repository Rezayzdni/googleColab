{
  "nbformat": 4,
  "nbformat_minor": 0,
  "metadata": {
    "colab": {
      "provenance": [],
      "collapsed_sections": [],
      "mount_file_id": "18xULlKR553IpGCpYvYaQU-mGfz5Nf088",
      "authorship_tag": "ABX9TyOQ0gEChvwqhSZ+YE1op05M",
      "include_colab_link": true
    },
    "kernelspec": {
      "name": "python3",
      "display_name": "Python 3"
    }
  },
  "cells": [
    {
      "cell_type": "markdown",
      "metadata": {
        "id": "view-in-github",
        "colab_type": "text"
      },
      "source": [
        "<a href=\"https://colab.research.google.com/github/Rezayzdni/googleColab/blob/main/myProject.ipynb\" target=\"_parent\"><img src=\"https://colab.research.google.com/assets/colab-badge.svg\" alt=\"Open In Colab\"/></a>"
      ]
    },
    {
      "cell_type": "code",
      "metadata": {
        "id": "Tq8SNUD7niyT",
        "colab": {
          "base_uri": "https://localhost:8080/"
        },
        "outputId": "3312239c-94bd-41bb-8a04-6400ecdc89b5"
      },
      "source": [
        "%matplotlib inline\n",
        "import pandas as pd\n",
        "from sklearn.feature_extraction.text import CountVectorizer\n",
        "from sklearn.metrics.pairwise import cosine_similarity\n",
        "\n",
        "import warnings; warnings.simplefilter('ignore')\n",
        "\n",
        "\n",
        "\n",
        "\n",
        "df = pd.read_csv(\"/content/drive/My Drive/my notebook/movie_dataset.csv\")\n",
        "\n",
        "\n",
        "movie_that_user_likes = input('please type one of your favorite movies: ')\n",
        "based_on_features = ['keywords','cast','genres','director','tagline']\n",
        "\n",
        "for basis in based_on_features:\n",
        "\tdf[basis] = df[basis].fillna('')\n",
        " \n",
        "\n",
        "\n",
        "\n",
        "def mix_features(row):\n",
        "\ttry:\n",
        "\t  return row['keywords'] + \" \" + row['cast'] + \" \" + row['genres'] + \" \" + row['director'] + row['tagline']\n",
        "\texcept:\n",
        "\t\tprint('an error has occured',row)\n",
        "\n",
        "df['mix_features'] = df.apply(mix_features,axis=1)\n",
        "\n",
        "\n",
        "cv = CountVectorizer()\n",
        "count_matrix = cv.fit_transform(df['mix_features'])\n",
        "\n",
        "similarity_of_each_movie_with_another_based_on_custome_features = cosine_similarity(count_matrix)\n",
        "#cosine similarity function gives us a float number between 0 and 1 which the bigger number shows more similarity between movies\n",
        "\n",
        "error = True\n",
        "def get_title(index):\n",
        "\treturn df[df.index == index][\"title\"].values[0]\n",
        "\n",
        "def get_index(title):\n",
        "\ttry:\n",
        "\t\t\treturn df[df.title == title][\"index\"].values[0]\n",
        "\texcept:\n",
        "\t\t\t\tprint('oops!! , either we do not have your movie in our dataset or you are typing it in a diffrent way! so give it a another try!!')\n",
        "\t\t\t\terror = False\t\n",
        "movie_that_user_likes_lowerd = movie_that_user_likes.lower()\n",
        "\n",
        "index_of_movie = get_index(movie_that_user_likes_lowerd)\n",
        "\n",
        "list_of_similar_movies = list(enumerate(similarity_of_each_movie_with_another_based_on_custome_features[index_of_movie]))\n",
        "\n",
        "sorted_similar_movies_in_descending_order = sorted(list_of_similar_movies,key=lambda item:item[1] , reverse=True)\n",
        "\n",
        "\n",
        "counter = 0\n",
        "if not error:\n",
        "\tprint('The 25 top movies that we recommend you to watch are : ')\n",
        "for favorite_movie in sorted_similar_movies_in_descending_order:\n",
        "\tif counter > 26: \n",
        "\t\tbreak\n",
        "\tcounter  = counter + 1\n",
        "\tif counter != 1: \n",
        "\t\tprint(get_title(favorite_movie[0]))\n",
        "\n",
        "\t           \n",
        "\t\n",
        "\n",
        "\n",
        "\n",
        "\n",
        "\n",
        "\n",
        "\n",
        "\n",
        "\n",
        "\n"
      ],
      "execution_count": 8,
      "outputs": [
        {
          "output_type": "stream",
          "name": "stdout",
          "text": [
            "please type one of your favorite movies: warm bodies\n",
            "pride and prejudice and zombies\n",
            "maggie\n",
            "land of the dead\n",
            "return of the living dead 3\n",
            "steppin: the movie\n",
            "blood and chocolate\n",
            "re-kill\n",
            "zombie hunter\n",
            "fly me to the moon\n",
            "the ugly truth\n",
            "enough said\n",
            "poultrygeist: night of the chicken dead\n",
            "mad max: fury road\n",
            "take me home tonight\n",
            "world war z\n",
            "the story of us\n",
            "annie hall\n",
            "me you and five bucks\n",
            "vampire in brooklyn\n",
            "seeking a friend for the end of the world\n",
            "return to me\n",
            "boynton beach club\n",
            "kiss the bride\n",
            "about a boy\n",
            "fido\n",
            "neighbors\n"
          ]
        }
      ]
    },
    {
      "cell_type": "code",
      "source": [
        "from google.colab import drive\n",
        "drive.mount('/content/drive')"
      ],
      "metadata": {
        "id": "UFSvl4qb8ci8",
        "colab": {
          "base_uri": "https://localhost:8080/"
        },
        "outputId": "d5aafea1-981a-434a-a2df-e386f10ed6a1"
      },
      "execution_count": 4,
      "outputs": [
        {
          "output_type": "stream",
          "name": "stdout",
          "text": [
            "Mounted at /content/drive\n"
          ]
        }
      ]
    }
  ]
}